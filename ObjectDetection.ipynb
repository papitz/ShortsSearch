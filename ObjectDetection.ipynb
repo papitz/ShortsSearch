{
 "cells": [
  {
   "cell_type": "code",
   "execution_count": 5,
   "id": "6b528343-6cd1-4c8a-9ae4-69d2911bb5a4",
   "metadata": {
    "scrolled": true
   },
   "outputs": [
    {
     "name": "stdout",
     "output_type": "stream",
     "text": [
      "Requirement already satisfied: opencv-python in ./venv/lib/python3.11/site-packages (4.8.1.78)\n",
      "Requirement already satisfied: numpy in ./venv/lib/python3.11/site-packages (1.26.2)\n",
      "Requirement already satisfied: ultralytics in ./venv/lib/python3.11/site-packages (8.0.211)\n",
      "Requirement already satisfied: matplotlib>=3.3.0 in ./venv/lib/python3.11/site-packages (from ultralytics) (3.8.2)\n",
      "Requirement already satisfied: pillow>=7.1.2 in ./venv/lib/python3.11/site-packages (from ultralytics) (10.1.0)\n",
      "Requirement already satisfied: pyyaml>=5.3.1 in ./venv/lib/python3.11/site-packages (from ultralytics) (6.0.1)\n",
      "Requirement already satisfied: requests>=2.23.0 in ./venv/lib/python3.11/site-packages (from ultralytics) (2.31.0)\n",
      "Requirement already satisfied: scipy>=1.4.1 in ./venv/lib/python3.11/site-packages (from ultralytics) (1.11.3)\n",
      "Requirement already satisfied: torch>=1.8.0 in ./venv/lib/python3.11/site-packages (from ultralytics) (2.1.1)\n",
      "Requirement already satisfied: torchvision>=0.9.0 in ./venv/lib/python3.11/site-packages (from ultralytics) (0.16.1)\n",
      "Requirement already satisfied: tqdm>=4.64.0 in ./venv/lib/python3.11/site-packages (from ultralytics) (4.66.1)\n",
      "Requirement already satisfied: pandas>=1.1.4 in ./venv/lib/python3.11/site-packages (from ultralytics) (2.1.3)\n",
      "Requirement already satisfied: seaborn>=0.11.0 in ./venv/lib/python3.11/site-packages (from ultralytics) (0.13.0)\n",
      "Requirement already satisfied: psutil in ./venv/lib/python3.11/site-packages (from ultralytics) (5.9.6)\n",
      "Requirement already satisfied: py-cpuinfo in ./venv/lib/python3.11/site-packages (from ultralytics) (9.0.0)\n",
      "Requirement already satisfied: thop>=0.1.1 in ./venv/lib/python3.11/site-packages (from ultralytics) (0.1.1.post2209072238)\n",
      "Requirement already satisfied: contourpy>=1.0.1 in ./venv/lib/python3.11/site-packages (from matplotlib>=3.3.0->ultralytics) (1.2.0)\n",
      "Requirement already satisfied: cycler>=0.10 in ./venv/lib/python3.11/site-packages (from matplotlib>=3.3.0->ultralytics) (0.12.1)\n",
      "Requirement already satisfied: fonttools>=4.22.0 in ./venv/lib/python3.11/site-packages (from matplotlib>=3.3.0->ultralytics) (4.44.3)\n",
      "Requirement already satisfied: kiwisolver>=1.3.1 in ./venv/lib/python3.11/site-packages (from matplotlib>=3.3.0->ultralytics) (1.4.5)\n",
      "Requirement already satisfied: packaging>=20.0 in ./venv/lib/python3.11/site-packages (from matplotlib>=3.3.0->ultralytics) (23.2)\n",
      "Requirement already satisfied: pyparsing>=2.3.1 in ./venv/lib/python3.11/site-packages (from matplotlib>=3.3.0->ultralytics) (3.1.1)\n",
      "Requirement already satisfied: python-dateutil>=2.7 in ./venv/lib/python3.11/site-packages (from matplotlib>=3.3.0->ultralytics) (2.8.2)\n",
      "Requirement already satisfied: pytz>=2020.1 in ./venv/lib/python3.11/site-packages (from pandas>=1.1.4->ultralytics) (2023.3.post1)\n",
      "Requirement already satisfied: tzdata>=2022.1 in ./venv/lib/python3.11/site-packages (from pandas>=1.1.4->ultralytics) (2023.3)\n",
      "Requirement already satisfied: charset-normalizer<4,>=2 in ./venv/lib/python3.11/site-packages (from requests>=2.23.0->ultralytics) (3.3.2)\n",
      "Requirement already satisfied: idna<4,>=2.5 in ./venv/lib/python3.11/site-packages (from requests>=2.23.0->ultralytics) (3.4)\n",
      "Requirement already satisfied: urllib3<3,>=1.21.1 in ./venv/lib/python3.11/site-packages (from requests>=2.23.0->ultralytics) (2.1.0)\n",
      "Requirement already satisfied: certifi>=2017.4.17 in ./venv/lib/python3.11/site-packages (from requests>=2.23.0->ultralytics) (2023.7.22)\n",
      "Requirement already satisfied: filelock in ./venv/lib/python3.11/site-packages (from torch>=1.8.0->ultralytics) (3.13.1)\n",
      "Requirement already satisfied: typing-extensions in ./venv/lib/python3.11/site-packages (from torch>=1.8.0->ultralytics) (4.8.0)\n",
      "Requirement already satisfied: sympy in ./venv/lib/python3.11/site-packages (from torch>=1.8.0->ultralytics) (1.12)\n",
      "Requirement already satisfied: networkx in ./venv/lib/python3.11/site-packages (from torch>=1.8.0->ultralytics) (3.2.1)\n",
      "Requirement already satisfied: jinja2 in ./venv/lib/python3.11/site-packages (from torch>=1.8.0->ultralytics) (3.1.2)\n",
      "Requirement already satisfied: fsspec in ./venv/lib/python3.11/site-packages (from torch>=1.8.0->ultralytics) (2023.10.0)\n",
      "Requirement already satisfied: nvidia-cuda-nvrtc-cu12==12.1.105 in ./venv/lib/python3.11/site-packages (from torch>=1.8.0->ultralytics) (12.1.105)\n",
      "Requirement already satisfied: nvidia-cuda-runtime-cu12==12.1.105 in ./venv/lib/python3.11/site-packages (from torch>=1.8.0->ultralytics) (12.1.105)\n",
      "Requirement already satisfied: nvidia-cuda-cupti-cu12==12.1.105 in ./venv/lib/python3.11/site-packages (from torch>=1.8.0->ultralytics) (12.1.105)\n",
      "Requirement already satisfied: nvidia-cudnn-cu12==8.9.2.26 in ./venv/lib/python3.11/site-packages (from torch>=1.8.0->ultralytics) (8.9.2.26)\n",
      "Requirement already satisfied: nvidia-cublas-cu12==12.1.3.1 in ./venv/lib/python3.11/site-packages (from torch>=1.8.0->ultralytics) (12.1.3.1)\n",
      "Requirement already satisfied: nvidia-cufft-cu12==11.0.2.54 in ./venv/lib/python3.11/site-packages (from torch>=1.8.0->ultralytics) (11.0.2.54)\n",
      "Requirement already satisfied: nvidia-curand-cu12==10.3.2.106 in ./venv/lib/python3.11/site-packages (from torch>=1.8.0->ultralytics) (10.3.2.106)\n",
      "Requirement already satisfied: nvidia-cusolver-cu12==11.4.5.107 in ./venv/lib/python3.11/site-packages (from torch>=1.8.0->ultralytics) (11.4.5.107)\n",
      "Requirement already satisfied: nvidia-cusparse-cu12==12.1.0.106 in ./venv/lib/python3.11/site-packages (from torch>=1.8.0->ultralytics) (12.1.0.106)\n",
      "Requirement already satisfied: nvidia-nccl-cu12==2.18.1 in ./venv/lib/python3.11/site-packages (from torch>=1.8.0->ultralytics) (2.18.1)\n",
      "Requirement already satisfied: nvidia-nvtx-cu12==12.1.105 in ./venv/lib/python3.11/site-packages (from torch>=1.8.0->ultralytics) (12.1.105)\n",
      "Requirement already satisfied: triton==2.1.0 in ./venv/lib/python3.11/site-packages (from torch>=1.8.0->ultralytics) (2.1.0)\n",
      "Requirement already satisfied: nvidia-nvjitlink-cu12 in ./venv/lib/python3.11/site-packages (from nvidia-cusolver-cu12==11.4.5.107->torch>=1.8.0->ultralytics) (12.3.101)\n",
      "Requirement already satisfied: six>=1.5 in ./venv/lib/python3.11/site-packages (from python-dateutil>=2.7->matplotlib>=3.3.0->ultralytics) (1.16.0)\n",
      "Requirement already satisfied: MarkupSafe>=2.0 in ./venv/lib/python3.11/site-packages (from jinja2->torch>=1.8.0->ultralytics) (2.1.3)\n",
      "Requirement already satisfied: mpmath>=0.19 in ./venv/lib/python3.11/site-packages (from sympy->torch>=1.8.0->ultralytics) (1.3.0)\n",
      "\n",
      "\u001b[1m[\u001b[0m\u001b[34;49mnotice\u001b[0m\u001b[1;39;49m]\u001b[0m\u001b[39;49m A new release of pip is available: \u001b[0m\u001b[31;49m23.2.1\u001b[0m\u001b[39;49m -> \u001b[0m\u001b[32;49m23.3.1\u001b[0m\n",
      "\u001b[1m[\u001b[0m\u001b[34;49mnotice\u001b[0m\u001b[1;39;49m]\u001b[0m\u001b[39;49m To update, run: \u001b[0m\u001b[32;49mpip install --upgrade pip\u001b[0m\n"
     ]
    }
   ],
   "source": [
    "! pip3 install opencv-python numpy ultralytics"
   ]
  },
  {
   "cell_type": "code",
   "execution_count": 6,
   "id": "e48b57db-38f7-4a3e-9db6-8d7601c0b251",
   "metadata": {},
   "outputs": [],
   "source": [
    "import cv2\n",
    "import numpy as np\n",
    "from ultralytics import YOLO"
   ]
  },
  {
   "cell_type": "markdown",
   "id": "81298870-1587-4b5a-99b5-e08210591176",
   "metadata": {},
   "source": [
    "## Function to extract object names"
   ]
  },
  {
   "cell_type": "code",
   "execution_count": 35,
   "id": "3f799ea3-fae8-4137-8aa1-d9e9632f62cc",
   "metadata": {},
   "outputs": [],
   "source": [
    "def get_list_of_objects(result, min_confidence):\n",
    "    objectIndices = result[0].probs.top5\n",
    "    confidences = result[0].probs.top5conf\n",
    "    objects = []\n",
    "    # Go through all predictions and only collect the ones with high confidence\n",
    "    for i in range(0, len(objectIndices)):\n",
    "        if confidences[i] > min_confidence:\n",
    "            objects.append(result[0].names[objectIndices[i]])\n",
    "    return objects"
   ]
  },
  {
   "cell_type": "markdown",
   "id": "639bd9de-d565-47c3-b0a6-1c749460aa27",
   "metadata": {},
   "source": [
    "## Function to get objects from single image"
   ]
  },
  {
   "cell_type": "code",
   "execution_count": 38,
   "id": "31cefa9e-aafa-455b-8ed4-86466e57eb52",
   "metadata": {},
   "outputs": [],
   "source": [
    "def get_objects_from_frame(model, frame, min_confidence):\n",
    "    result = model.predict(source=frame)\n",
    "    return get_list_of_objects(result, min_confidence)"
   ]
  },
  {
   "cell_type": "markdown",
   "id": "4c108d38-14e2-4b59-8905-dec021e25214",
   "metadata": {},
   "source": [
    "## Use a pretrained YOLO model to predict objects in image"
   ]
  },
  {
   "cell_type": "code",
   "execution_count": 17,
   "id": "4eddb548-775b-47de-a7ba-f5535201548f",
   "metadata": {
    "scrolled": true
   },
   "outputs": [],
   "source": [
    "model = YOLO(\"yolov8x-cls.pt\")"
   ]
  },
  {
   "cell_type": "code",
   "execution_count": 18,
   "id": "e92c4526-0da7-4780-9c61-075c3a80f733",
   "metadata": {},
   "outputs": [
    {
     "name": "stderr",
     "output_type": "stream",
     "text": [
      "\n",
      "Found https://ultralytics.com/images/bus.jpg locally at bus.jpg\n",
      "image 1/1 /home/paul/Uni/SEP/ShortSearch/bus.jpg: 224x224 minibus 0.95, amphibian 0.02, trolleybus 0.01, recreational_vehicle 0.01, passenger_car 0.00, 85.6ms\n",
      "Speed: 1.0ms preprocess, 85.6ms inference, 0.1ms postprocess per image at shape (1, 3, 224, 224)\n"
     ]
    }
   ],
   "source": [
    "result = model.predict(source=\"https://ultralytics.com/images/bus.jpg\")"
   ]
  },
  {
   "cell_type": "code",
   "execution_count": 30,
   "id": "23995a25-753b-4e58-8be5-3878b8fe8e4d",
   "metadata": {},
   "outputs": [
    {
     "data": {
      "text/plain": [
       "['minibus']"
      ]
     },
     "execution_count": 30,
     "metadata": {},
     "output_type": "execute_result"
    }
   ],
   "source": [
    "get_list_of_objects(result, 0.9)"
   ]
  },
  {
   "cell_type": "code",
   "execution_count": 3,
   "id": "48d583c7-cdcc-44c3-897b-10c64faa5fa2",
   "metadata": {},
   "outputs": [],
   "source": [
    "# result[0].names"
   ]
  },
  {
   "cell_type": "markdown",
   "id": "147e0b68-7cd0-49ff-9076-0f9ab3d18a65",
   "metadata": {},
   "source": [
    "## Get all frames from a video and find objects"
   ]
  },
  {
   "cell_type": "code",
   "execution_count": 33,
   "id": "56a994eb-70cf-4fc7-b4ea-55c25ddcf523",
   "metadata": {},
   "outputs": [],
   "source": [
    "def detect_objects_in_video(video_path, model, min_confidence):\n",
    "    cap = cv2.VideoCapture(video_path)\n",
    "\n",
    "    if not cap.isOpened():\n",
    "        print(\"Error opening video file\")\n",
    "        return\n",
    "\n",
    "    frame_count = int(cap.get(cv2.CAP_PROP_FRAME_COUNT))\n",
    "    fps = int(cap.get(cv2.CAP_PROP_FPS))\n",
    "\n",
    "    # Extract every fifth frame\n",
    "    frame_interval = 5\n",
    "    detected_objects = set()\n",
    "    for frame_number in range(0, frame_count, frame_interval):\n",
    "        cap.set(cv2.CAP_PROP_POS_FRAMES, frame_number)\n",
    "        ret, frame = cap.read()\n",
    "\n",
    "        if not ret:\n",
    "            print(f\"Error reading frame {frame_number}\")\n",
    "            break\n",
    "\n",
    "        # Call the provided function with the extracted frame\n",
    "        for detected_object in get_objects_from_frame(model, frame, min_confidence):   \n",
    "            detected_objects.add(detected_object)\n",
    "\n",
    "    cap.release()\n",
    "    cv2.destroyAllWindows()\n",
    "    print(detected_objects)\n",
    "    return detected_objects"
   ]
  },
  {
   "cell_type": "markdown",
   "id": "360f2c68-49e1-4002-8387-2c72ac9854d5",
   "metadata": {},
   "source": [
    "## Run video classification"
   ]
  },
  {
   "cell_type": "code",
   "execution_count": 39,
   "id": "df120d9b-9468-463b-a9ae-9441c3e7d778",
   "metadata": {},
   "outputs": [
    {
     "name": "stderr",
     "output_type": "stream",
     "text": [
      "\n",
      "0: 224x224 toilet_tissue 0.88, paper_towel 0.12, mortar 0.00, pot 0.00, oil_filter 0.00, 92.8ms\n",
      "Speed: 1.4ms preprocess, 92.8ms inference, 0.0ms postprocess per image at shape (1, 3, 224, 224)\n",
      "\n",
      "0: 224x224 toilet_tissue 0.93, paper_towel 0.07, mortar 0.00, toilet_seat 0.00, oil_filter 0.00, 265.1ms\n",
      "Speed: 32.9ms preprocess, 265.1ms inference, 0.1ms postprocess per image at shape (1, 3, 224, 224)\n",
      "\n",
      "0: 224x224 toilet_tissue 0.88, paper_towel 0.12, mortar 0.00, toilet_seat 0.00, oil_filter 0.00, 106.9ms\n",
      "Speed: 6.5ms preprocess, 106.9ms inference, 0.1ms postprocess per image at shape (1, 3, 224, 224)\n",
      "\n",
      "0: 224x224 toilet_tissue 0.86, paper_towel 0.14, oil_filter 0.00, toilet_seat 0.00, mortar 0.00, 93.1ms\n",
      "Speed: 1.4ms preprocess, 93.1ms inference, 0.0ms postprocess per image at shape (1, 3, 224, 224)\n",
      "\n",
      "0: 224x224 toilet_tissue 0.87, paper_towel 0.13, oil_filter 0.00, mortar 0.00, dough 0.00, 96.1ms\n",
      "Speed: 1.8ms preprocess, 96.1ms inference, 0.0ms postprocess per image at shape (1, 3, 224, 224)\n",
      "\n",
      "0: 224x224 toilet_tissue 0.90, paper_towel 0.10, mortar 0.00, dough 0.00, oil_filter 0.00, 88.6ms\n",
      "Speed: 1.3ms preprocess, 88.6ms inference, 0.1ms postprocess per image at shape (1, 3, 224, 224)\n",
      "\n",
      "0: 224x224 toilet_tissue 0.94, paper_towel 0.06, mortar 0.00, pot 0.00, oil_filter 0.00, 82.2ms\n",
      "Speed: 1.1ms preprocess, 82.2ms inference, 0.0ms postprocess per image at shape (1, 3, 224, 224)\n",
      "\n",
      "0: 224x224 toilet_tissue 0.95, paper_towel 0.05, oil_filter 0.00, mortar 0.00, dough 0.00, 85.1ms\n",
      "Speed: 1.8ms preprocess, 85.1ms inference, 0.0ms postprocess per image at shape (1, 3, 224, 224)\n",
      "\n",
      "0: 224x224 toilet_tissue 0.98, paper_towel 0.02, mortar 0.00, oil_filter 0.00, dough 0.00, 114.9ms\n",
      "Speed: 34.9ms preprocess, 114.9ms inference, 0.0ms postprocess per image at shape (1, 3, 224, 224)\n",
      "\n",
      "0: 224x224 toilet_tissue 0.94, paper_towel 0.06, mortar 0.00, oil_filter 0.00, pot 0.00, 76.6ms\n",
      "Speed: 1.9ms preprocess, 76.6ms inference, 0.0ms postprocess per image at shape (1, 3, 224, 224)\n",
      "\n",
      "0: 224x224 toilet_tissue 0.92, paper_towel 0.08, mortar 0.00, oil_filter 0.00, dough 0.00, 104.1ms\n",
      "Speed: 1.4ms preprocess, 104.1ms inference, 0.1ms postprocess per image at shape (1, 3, 224, 224)\n",
      "\n",
      "0: 224x224 toilet_tissue 0.79, paper_towel 0.21, dough 0.00, toilet_seat 0.00, mortar 0.00, 111.7ms\n",
      "Speed: 1.5ms preprocess, 111.7ms inference, 0.1ms postprocess per image at shape (1, 3, 224, 224)\n",
      "\n",
      "0: 224x224 toilet_tissue 0.76, paper_towel 0.24, rubber_eraser 0.00, toilet_seat 0.00, bagel 0.00, 100.8ms\n",
      "Speed: 2.1ms preprocess, 100.8ms inference, 0.0ms postprocess per image at shape (1, 3, 224, 224)\n",
      "\n",
      "0: 224x224 toilet_tissue 0.76, paper_towel 0.24, bagel 0.00, rubber_eraser 0.00, toilet_seat 0.00, 135.1ms\n",
      "Speed: 36.4ms preprocess, 135.1ms inference, 0.0ms postprocess per image at shape (1, 3, 224, 224)\n",
      "\n",
      "0: 224x224 toilet_tissue 0.76, paper_towel 0.24, toilet_seat 0.00, dough 0.00, bagel 0.00, 76.7ms\n",
      "Speed: 1.1ms preprocess, 76.7ms inference, 0.0ms postprocess per image at shape (1, 3, 224, 224)\n",
      "\n",
      "0: 224x224 toilet_tissue 0.89, paper_towel 0.11, toilet_seat 0.00, bagel 0.00, oil_filter 0.00, 90.7ms\n",
      "Speed: 0.9ms preprocess, 90.7ms inference, 0.1ms postprocess per image at shape (1, 3, 224, 224)\n",
      "\n",
      "0: 224x224 toilet_tissue 0.81, paper_towel 0.19, birdhouse 0.00, bagel 0.00, toilet_seat 0.00, 100.5ms\n",
      "Speed: 1.3ms preprocess, 100.5ms inference, 0.1ms postprocess per image at shape (1, 3, 224, 224)\n",
      "\n",
      "0: 224x224 toilet_tissue 0.76, paper_towel 0.24, birdhouse 0.00, toilet_seat 0.00, bagel 0.00, 93.4ms\n",
      "Speed: 2.4ms preprocess, 93.4ms inference, 0.1ms postprocess per image at shape (1, 3, 224, 224)\n",
      "\n",
      "0: 224x224 toilet_tissue 0.51, paper_towel 0.49, birdhouse 0.00, bagel 0.00, bassoon 0.00, 86.7ms\n",
      "Speed: 1.1ms preprocess, 86.7ms inference, 0.0ms postprocess per image at shape (1, 3, 224, 224)\n",
      "\n",
      "0: 224x224 paper_towel 0.68, toilet_tissue 0.32, birdhouse 0.00, whiskey_jug 0.00, cannon 0.00, 86.3ms\n",
      "Speed: 1.2ms preprocess, 86.3ms inference, 0.0ms postprocess per image at shape (1, 3, 224, 224)\n",
      "\n",
      "0: 224x224 paper_towel 0.76, toilet_tissue 0.24, birdhouse 0.00, cannon 0.00, whiskey_jug 0.00, 88.6ms\n",
      "Speed: 0.8ms preprocess, 88.6ms inference, 0.0ms postprocess per image at shape (1, 3, 224, 224)\n"
     ]
    },
    {
     "name": "stdout",
     "output_type": "stream",
     "text": [
      "{'toilet_tissue'}\n"
     ]
    },
    {
     "data": {
      "text/plain": [
       "{'toilet_tissue'}"
      ]
     },
     "execution_count": 39,
     "metadata": {},
     "output_type": "execute_result"
    }
   ],
   "source": [
    "detect_objects_in_video(\"./test.mp4\", model, 0.9)"
   ]
  },
  {
   "cell_type": "code",
   "execution_count": null,
   "id": "f45263c2-03a7-4eb3-bbcc-9b650ca5e73c",
   "metadata": {},
   "outputs": [],
   "source": []
  },
  {
   "cell_type": "code",
   "execution_count": null,
   "id": "342568b8-e283-40ca-946e-dfb38ceea0b1",
   "metadata": {},
   "outputs": [],
   "source": []
  }
 ],
 "metadata": {
  "kernelspec": {
   "display_name": "venv",
   "language": "python",
   "name": "venv"
  },
  "language_info": {
   "codemirror_mode": {
    "name": "ipython",
    "version": 3
   },
   "file_extension": ".py",
   "mimetype": "text/x-python",
   "name": "python",
   "nbconvert_exporter": "python",
   "pygments_lexer": "ipython3",
   "version": "3.11.6"
  }
 },
 "nbformat": 4,
 "nbformat_minor": 5
}
